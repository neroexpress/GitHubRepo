{
 "cells": [
  {
   "cell_type": "code",
   "execution_count": null,
   "metadata": {
    "collapsed": false
   },
   "outputs": [],
   "source": [
    "a=7\n",
    "print(type(a))\n",
    "\n",
    "type(99.443)\n",
    "\n",
    "pi=22/7;print(pi)\n",
    "\n",
    "#5/0\n",
    "\n",
    "a=34;a-3;print(a)\n",
    "a-=3\n",
    "a"
   ]
  },
  {
   "cell_type": "code",
   "execution_count": null,
   "metadata": {
    "collapsed": false
   },
   "outputs": [],
   "source": [
    "a=95\n",
    "a-=3\n",
    "a\n",
    "\n",
    "a+=8\n",
    "\n",
    "a/=3\n",
    "a\n",
    "\n"
   ]
  },
  {
   "cell_type": "code",
   "execution_count": null,
   "metadata": {
    "collapsed": false
   },
   "outputs": [],
   "source": [
    "divmod(9,5)\n",
    "\n",
    "type(divmod(9,5))\n",
    "\n",
    "0b10\n",
    "\n",
    "0XA\n",
    "\n",
    "0o10\n",
    "\n",
    "0x10\n",
    "\n",
    "0X21\n",
    "\n",
    "int(False)\n",
    "\n"
   ]
  },
  {
   "cell_type": "code",
   "execution_count": 16,
   "metadata": {
    "collapsed": false
   },
   "outputs": [
    {
     "name": "stdout",
     "output_type": "stream",
     "text": [
      "2,1\n",
      "snap\n",
      "Hello\n"
     ]
    },
    {
     "data": {
      "text/plain": [
       "\"'crackle'\""
      ]
     },
     "execution_count": 16,
     "metadata": {},
     "output_type": "execute_result"
    }
   ],
   "source": [
    "print(\"{one},{two}\".format(two=1,one=2))\n",
    "\n",
    "int(\"+12\")\n",
    "\n",
    "'''int(\"99 bottels of beer on the wall\")\n",
    "this is an error'''\n",
    "\n",
    "google = 10**100;\n",
    "type(google*google)\n",
    "\n",
    "float(\"99.0\")\n",
    "\n",
    "s= \"snap\"\n",
    "print(s)\n",
    "s=\"Hello\"\n",
    "print(s)\n",
    "\n",
    "\"'crackle'\""
   ]
  },
  {
   "cell_type": "code",
   "execution_count": 20,
   "metadata": {
    "collapsed": false
   },
   "outputs": [
    {
     "data": {
      "text/plain": [
       "'current inventory: 99'"
      ]
     },
     "execution_count": 20,
     "metadata": {},
     "output_type": "execute_result"
    }
   ],
   "source": [
    "bottles = 99\n",
    "base = 'current inventory: '\n",
    "base += str(bottles)\n",
    "base\n",
    "\n",
    "print('this is a tab\\taba')\n",
    "\n",
    "testimony  = \"this is a testimony|t\"\n",
    "print(testimony)\n",
    "\n",
    "\"this is also cool\" ' THis is cool'\n",
    "\n",
    "start = 'NA'*4 + '\\n'\n",
    "middle = 'hey'*3 + '\\n'\n",
    "end = 'goodbye!'\n",
    "print(start,middle,end)\n",
    "\n",
    "letters = 'abcdefghijklmnopqrstuvwxyz'\n",
    "letters[25]\n",
    "\n",
    "letters[-1]==letters[25]\n",
    "\n",
    "name = 'Henny'\n",
    "name[0]='p'\n",
    "\n",
    "name='Penny'\n",
    "\n",
    "name\n",
    "\n",
    "name.replace('n','Q')\n",
    "\n",
    "name"
   ]
  },
  {
   "cell_type": "code",
   "execution_count": 59,
   "metadata": {
    "collapsed": false
   },
   "outputs": [
    {
     "data": {
      "text/plain": [
       "'z'"
      ]
     },
     "execution_count": 59,
     "metadata": {},
     "output_type": "execute_result"
    }
   ],
   "source": [
    "l = 'abcdefghijklmnopqrstuvwxyz'\n",
    "l[25]"
   ]
  },
  {
   "cell_type": "code",
   "execution_count": 62,
   "metadata": {
    "collapsed": false
   },
   "outputs": [
    {
     "data": {
      "text/plain": [
       "'a'"
      ]
     },
     "execution_count": 62,
     "metadata": {},
     "output_type": "execute_result"
    }
   ],
   "source": [
    "l[0:1]"
   ]
  },
  {
   "cell_type": "code",
   "execution_count": null,
   "metadata": {
    "collapsed": true
   },
   "outputs": [],
   "source": []
  }
 ],
 "metadata": {
  "kernelspec": {
   "display_name": "Python 3",
   "language": "python",
   "name": "python3"
  },
  "language_info": {
   "codemirror_mode": {
    "name": "ipython",
    "version": 3
   },
   "file_extension": ".py",
   "mimetype": "text/x-python",
   "name": "python",
   "nbconvert_exporter": "python",
   "pygments_lexer": "ipython3",
   "version": "3.6.0"
  }
 },
 "nbformat": 4,
 "nbformat_minor": 2
}
